{
 "cells": [
  {
   "cell_type": "code",
   "execution_count": 1,
   "metadata": {},
   "outputs": [
    {
     "data": {
      "text/html": [
       "<div>\n",
       "<style scoped>\n",
       "    .dataframe tbody tr th:only-of-type {\n",
       "        vertical-align: middle;\n",
       "    }\n",
       "\n",
       "    .dataframe tbody tr th {\n",
       "        vertical-align: top;\n",
       "    }\n",
       "\n",
       "    .dataframe thead th {\n",
       "        text-align: right;\n",
       "    }\n",
       "</style>\n",
       "<table border=\"1\" class=\"dataframe\">\n",
       "  <thead>\n",
       "    <tr style=\"text-align: right;\">\n",
       "      <th></th>\n",
       "      <th>Time(year-month-day h:m:s)</th>\n",
       "      <th>Wind speed at height of 10 meters (m/s)</th>\n",
       "      <th>Wind direction at height of 10 meters (˚)</th>\n",
       "      <th>Wind speed at height of 30 meters (m/s)</th>\n",
       "      <th>Wind direction at height of 30 meters (˚)</th>\n",
       "      <th>Wind speed at height of 50 meters (m/s)</th>\n",
       "      <th>Wind direction at height of 50 meters (˚)</th>\n",
       "      <th>Wind speed - at the height of wheel hub (m/s)</th>\n",
       "      <th>Wind speed - at the height of wheel hub (˚)</th>\n",
       "      <th>Air temperature (°C)</th>\n",
       "      <th>Atmosphere (hpa)</th>\n",
       "      <th>Relative humidity (%)</th>\n",
       "      <th>Power (MW)</th>\n",
       "    </tr>\n",
       "  </thead>\n",
       "  <tbody>\n",
       "    <tr>\n",
       "      <th>0</th>\n",
       "      <td>2019-01-01 00:00:00</td>\n",
       "      <td>2.209</td>\n",
       "      <td>81.317</td>\n",
       "      <td>1.991</td>\n",
       "      <td>74.814</td>\n",
       "      <td>2.094</td>\n",
       "      <td>77.667</td>\n",
       "      <td>2.494</td>\n",
       "      <td>74.500</td>\n",
       "      <td>-13.484</td>\n",
       "      <td>889.867</td>\n",
       "      <td>76.320</td>\n",
       "      <td>0.254383</td>\n",
       "    </tr>\n",
       "    <tr>\n",
       "      <th>1</th>\n",
       "      <td>2019-01-01 00:15:00</td>\n",
       "      <td>1.828</td>\n",
       "      <td>77.460</td>\n",
       "      <td>1.698</td>\n",
       "      <td>75.048</td>\n",
       "      <td>1.757</td>\n",
       "      <td>88.733</td>\n",
       "      <td>1.882</td>\n",
       "      <td>74.367</td>\n",
       "      <td>-13.691</td>\n",
       "      <td>889.575</td>\n",
       "      <td>76.757</td>\n",
       "      <td>0.329703</td>\n",
       "    </tr>\n",
       "    <tr>\n",
       "      <th>2</th>\n",
       "      <td>2019-01-01 00:30:00</td>\n",
       "      <td>2.193</td>\n",
       "      <td>86.700</td>\n",
       "      <td>2.313</td>\n",
       "      <td>84.688</td>\n",
       "      <td>2.344</td>\n",
       "      <td>89.100</td>\n",
       "      <td>2.350</td>\n",
       "      <td>89.000</td>\n",
       "      <td>-13.766</td>\n",
       "      <td>889.942</td>\n",
       "      <td>76.981</td>\n",
       "      <td>0.296306</td>\n",
       "    </tr>\n",
       "    <tr>\n",
       "      <th>3</th>\n",
       "      <td>2019-01-01 00:45:00</td>\n",
       "      <td>2.654</td>\n",
       "      <td>78.160</td>\n",
       "      <td>2.494</td>\n",
       "      <td>74.939</td>\n",
       "      <td>2.574</td>\n",
       "      <td>87.267</td>\n",
       "      <td>2.808</td>\n",
       "      <td>82.733</td>\n",
       "      <td>-13.691</td>\n",
       "      <td>889.675</td>\n",
       "      <td>76.821</td>\n",
       "      <td>0.187590</td>\n",
       "    </tr>\n",
       "    <tr>\n",
       "      <th>4</th>\n",
       "      <td>2019-01-01 01:00:00</td>\n",
       "      <td>2.249</td>\n",
       "      <td>94.297</td>\n",
       "      <td>2.192</td>\n",
       "      <td>91.140</td>\n",
       "      <td>2.558</td>\n",
       "      <td>96.900</td>\n",
       "      <td>2.924</td>\n",
       "      <td>92.967</td>\n",
       "      <td>-13.447</td>\n",
       "      <td>890.025</td>\n",
       "      <td>74.571</td>\n",
       "      <td>0.081005</td>\n",
       "    </tr>\n",
       "  </tbody>\n",
       "</table>\n",
       "</div>"
      ],
      "text/plain": [
       "  Time(year-month-day h:m:s)  Wind speed at height of 10 meters (m/s)  \\\n",
       "0        2019-01-01 00:00:00                                    2.209   \n",
       "1        2019-01-01 00:15:00                                    1.828   \n",
       "2        2019-01-01 00:30:00                                    2.193   \n",
       "3        2019-01-01 00:45:00                                    2.654   \n",
       "4        2019-01-01 01:00:00                                    2.249   \n",
       "\n",
       "   Wind direction at height of 10 meters (˚)  \\\n",
       "0                                     81.317   \n",
       "1                                     77.460   \n",
       "2                                     86.700   \n",
       "3                                     78.160   \n",
       "4                                     94.297   \n",
       "\n",
       "   Wind speed at height of 30 meters (m/s)  \\\n",
       "0                                    1.991   \n",
       "1                                    1.698   \n",
       "2                                    2.313   \n",
       "3                                    2.494   \n",
       "4                                    2.192   \n",
       "\n",
       "   Wind direction at height of 30 meters (˚)  \\\n",
       "0                                     74.814   \n",
       "1                                     75.048   \n",
       "2                                     84.688   \n",
       "3                                     74.939   \n",
       "4                                     91.140   \n",
       "\n",
       "   Wind speed at height of 50 meters (m/s)  \\\n",
       "0                                    2.094   \n",
       "1                                    1.757   \n",
       "2                                    2.344   \n",
       "3                                    2.574   \n",
       "4                                    2.558   \n",
       "\n",
       "   Wind direction at height of 50 meters (˚)  \\\n",
       "0                                     77.667   \n",
       "1                                     88.733   \n",
       "2                                     89.100   \n",
       "3                                     87.267   \n",
       "4                                     96.900   \n",
       "\n",
       "   Wind speed - at the height of wheel hub (m/s)  \\\n",
       "0                                          2.494   \n",
       "1                                          1.882   \n",
       "2                                          2.350   \n",
       "3                                          2.808   \n",
       "4                                          2.924   \n",
       "\n",
       "   Wind speed - at the height of wheel hub (˚)  Air temperature (°C)   \\\n",
       "0                                       74.500                -13.484   \n",
       "1                                       74.367                -13.691   \n",
       "2                                       89.000                -13.766   \n",
       "3                                       82.733                -13.691   \n",
       "4                                       92.967                -13.447   \n",
       "\n",
       "   Atmosphere (hpa)  Relative humidity (%)  Power (MW)  \n",
       "0           889.867                 76.320    0.254383  \n",
       "1           889.575                 76.757    0.329703  \n",
       "2           889.942                 76.981    0.296306  \n",
       "3           889.675                 76.821    0.187590  \n",
       "4           890.025                 74.571    0.081005  "
      ]
     },
     "execution_count": 1,
     "metadata": {},
     "output_type": "execute_result"
    }
   ],
   "source": [
    "\n",
    "import os, types\n",
    "import pandas as pd\n",
    "from botocore.client import Config\n",
    "import ibm_boto3\n",
    "\n",
    "def __iter__(self): return 0\n",
    "\n",
    "# @hidden_cell\n",
    "# The following code accesses a file in your IBM Cloud Object Storage. It includes your credentials.\n",
    "# You might want to remove those credentials before you share the notebook.\n",
    "cos_client = ibm_boto3.client(service_name='s3',\n",
    "    ibm_api_key_id='Bdu5WVAIe-vG5OgM8sq_y4zWJdRYq9KhOqN66NVP9RjM',\n",
    "    ibm_auth_endpoint=\"https://iam.cloud.ibm.com/oidc/token\",\n",
    "    config=Config(signature_version='oauth'),\n",
    "    endpoint_url='https://s3.private.us.cloud-object-storage.appdomain.cloud')\n",
    "\n",
    "bucket = 'predictionofenergyoutputofwindtur-donotdelete-pr-omqyaboy2mnabw'\n",
    "object_key = 'Windfarm.xlsx'\n",
    "\n",
    "body = cos_client.get_object(Bucket=bucket,Key=object_key)['Body']\n",
    "\n",
    "df = pd.read_excel(body.read())\n",
    "df.head()\n"
   ]
  },
  {
   "cell_type": "markdown",
   "metadata": {
    "id": "N_1u9YYvkTOF"
   },
   "source": [
    "## **IMPORTING THE REQUIRED LIBRARIES**"
   ]
  },
  {
   "cell_type": "code",
   "execution_count": 2,
   "metadata": {
    "id": "cWKNQvHicodF"
   },
   "outputs": [],
   "source": [
    "import pandas as pd \n",
    "import numpy as np\n",
    "import seaborn as sns\n",
    "import matplotlib.pyplot as plt\n",
    "from sklearn.model_selection import RepeatedStratifiedKFold\n",
    "from scipy.stats import loguniform"
   ]
  },
  {
   "cell_type": "code",
   "execution_count": 3,
   "metadata": {
    "colab": {
     "base_uri": "https://localhost:8080/"
    },
    "id": "JabadXTqo_Vt",
    "outputId": "6f6d593d-e73c-4aa2-c6f9-6160d1bc5689"
   },
   "outputs": [
    {
     "data": {
      "text/plain": [
       "Time(year-month-day h:m:s)                       False\n",
       "Wind speed at height of 10 meters (m/s)          False\n",
       "Wind direction at height of 10 meters (˚)        False\n",
       "Wind speed at height of 30 meters (m/s)          False\n",
       "Wind direction at height of 30 meters (˚)        False\n",
       "Wind speed at height of 50 meters (m/s)          False\n",
       "Wind direction at height of 50 meters (˚)        False\n",
       "Wind speed - at the height of wheel hub (m/s)    False\n",
       "Wind speed - at the height of wheel hub (˚)      False\n",
       "Air temperature (°C)                             False\n",
       "Atmosphere (hpa)                                 False\n",
       "Relative humidity (%)                            False\n",
       "Power (MW)                                       False\n",
       "dtype: bool"
      ]
     },
     "execution_count": 3,
     "metadata": {},
     "output_type": "execute_result"
    }
   ],
   "source": [
    "#Checking for null values\n",
    "df.isnull().any()"
   ]
  },
  {
   "cell_type": "code",
   "execution_count": 4,
   "metadata": {
    "colab": {
     "base_uri": "https://localhost:8080/",
     "height": 936
    },
    "id": "EXNBUXZipm2N",
    "outputId": "77d7faa3-2b7b-4013-af0e-094d7e81d132"
   },
   "outputs": [
    {
     "data": {
      "text/html": [
       "<div>\n",
       "<style scoped>\n",
       "    .dataframe tbody tr th:only-of-type {\n",
       "        vertical-align: middle;\n",
       "    }\n",
       "\n",
       "    .dataframe tbody tr th {\n",
       "        vertical-align: top;\n",
       "    }\n",
       "\n",
       "    .dataframe thead th {\n",
       "        text-align: right;\n",
       "    }\n",
       "</style>\n",
       "<table border=\"1\" class=\"dataframe\">\n",
       "  <thead>\n",
       "    <tr style=\"text-align: right;\">\n",
       "      <th></th>\n",
       "      <th>Time</th>\n",
       "      <th>Wind speed at height of 10 meters (m/s)</th>\n",
       "      <th>Wind direction at height of 10 meters (˚)</th>\n",
       "      <th>Wind speed at height of 30 meters (m/s)</th>\n",
       "      <th>Wind direction at height of 30 meters (˚)</th>\n",
       "      <th>Wind speed at height of 50 meters (m/s)</th>\n",
       "      <th>Wind direction at height of 50 meters (˚)</th>\n",
       "      <th>Wind speed - at the height of wheel hub (m/s)</th>\n",
       "      <th>Wind speed - at the height of wheel hub (˚)</th>\n",
       "      <th>Air temperature (°C)</th>\n",
       "      <th>Atmosphere (hpa)</th>\n",
       "      <th>Relative humidity (%)</th>\n",
       "      <th>Power</th>\n",
       "    </tr>\n",
       "  </thead>\n",
       "  <tbody>\n",
       "    <tr>\n",
       "      <th>0</th>\n",
       "      <td>2019-01-01 00:00:00</td>\n",
       "      <td>2.209</td>\n",
       "      <td>81.317</td>\n",
       "      <td>1.991</td>\n",
       "      <td>74.814</td>\n",
       "      <td>2.094</td>\n",
       "      <td>77.667</td>\n",
       "      <td>2.494</td>\n",
       "      <td>74.500</td>\n",
       "      <td>-13.484</td>\n",
       "      <td>889.867</td>\n",
       "      <td>76.320</td>\n",
       "      <td>0.254383</td>\n",
       "    </tr>\n",
       "    <tr>\n",
       "      <th>1</th>\n",
       "      <td>2019-01-01 00:15:00</td>\n",
       "      <td>1.828</td>\n",
       "      <td>77.460</td>\n",
       "      <td>1.698</td>\n",
       "      <td>75.048</td>\n",
       "      <td>1.757</td>\n",
       "      <td>88.733</td>\n",
       "      <td>1.882</td>\n",
       "      <td>74.367</td>\n",
       "      <td>-13.691</td>\n",
       "      <td>889.575</td>\n",
       "      <td>76.757</td>\n",
       "      <td>0.329703</td>\n",
       "    </tr>\n",
       "    <tr>\n",
       "      <th>2</th>\n",
       "      <td>2019-01-01 00:30:00</td>\n",
       "      <td>2.193</td>\n",
       "      <td>86.700</td>\n",
       "      <td>2.313</td>\n",
       "      <td>84.688</td>\n",
       "      <td>2.344</td>\n",
       "      <td>89.100</td>\n",
       "      <td>2.350</td>\n",
       "      <td>89.000</td>\n",
       "      <td>-13.766</td>\n",
       "      <td>889.942</td>\n",
       "      <td>76.981</td>\n",
       "      <td>0.296306</td>\n",
       "    </tr>\n",
       "    <tr>\n",
       "      <th>3</th>\n",
       "      <td>2019-01-01 00:45:00</td>\n",
       "      <td>2.654</td>\n",
       "      <td>78.160</td>\n",
       "      <td>2.494</td>\n",
       "      <td>74.939</td>\n",
       "      <td>2.574</td>\n",
       "      <td>87.267</td>\n",
       "      <td>2.808</td>\n",
       "      <td>82.733</td>\n",
       "      <td>-13.691</td>\n",
       "      <td>889.675</td>\n",
       "      <td>76.821</td>\n",
       "      <td>0.187590</td>\n",
       "    </tr>\n",
       "    <tr>\n",
       "      <th>4</th>\n",
       "      <td>2019-01-01 01:00:00</td>\n",
       "      <td>2.249</td>\n",
       "      <td>94.297</td>\n",
       "      <td>2.192</td>\n",
       "      <td>91.140</td>\n",
       "      <td>2.558</td>\n",
       "      <td>96.900</td>\n",
       "      <td>2.924</td>\n",
       "      <td>92.967</td>\n",
       "      <td>-13.447</td>\n",
       "      <td>890.025</td>\n",
       "      <td>74.571</td>\n",
       "      <td>0.081005</td>\n",
       "    </tr>\n",
       "    <tr>\n",
       "      <th>...</th>\n",
       "      <td>...</td>\n",
       "      <td>...</td>\n",
       "      <td>...</td>\n",
       "      <td>...</td>\n",
       "      <td>...</td>\n",
       "      <td>...</td>\n",
       "      <td>...</td>\n",
       "      <td>...</td>\n",
       "      <td>...</td>\n",
       "      <td>...</td>\n",
       "      <td>...</td>\n",
       "      <td>...</td>\n",
       "      <td>...</td>\n",
       "    </tr>\n",
       "    <tr>\n",
       "      <th>70171</th>\n",
       "      <td>2020-12-31 22:45:00</td>\n",
       "      <td>5.738</td>\n",
       "      <td>234.600</td>\n",
       "      <td>6.408</td>\n",
       "      <td>235.454</td>\n",
       "      <td>6.575</td>\n",
       "      <td>242.033</td>\n",
       "      <td>6.680</td>\n",
       "      <td>238.433</td>\n",
       "      <td>-9.108</td>\n",
       "      <td>890.008</td>\n",
       "      <td>53.312</td>\n",
       "      <td>13.633642</td>\n",
       "    </tr>\n",
       "    <tr>\n",
       "      <th>70172</th>\n",
       "      <td>2020-12-31 23:00:00</td>\n",
       "      <td>5.748</td>\n",
       "      <td>229.333</td>\n",
       "      <td>6.231</td>\n",
       "      <td>233.423</td>\n",
       "      <td>6.372</td>\n",
       "      <td>239.800</td>\n",
       "      <td>6.448</td>\n",
       "      <td>236.833</td>\n",
       "      <td>-9.978</td>\n",
       "      <td>889.817</td>\n",
       "      <td>53.877</td>\n",
       "      <td>6.869759</td>\n",
       "    </tr>\n",
       "    <tr>\n",
       "      <th>70173</th>\n",
       "      <td>2020-12-31 23:15:00</td>\n",
       "      <td>4.468</td>\n",
       "      <td>235.133</td>\n",
       "      <td>4.406</td>\n",
       "      <td>253.261</td>\n",
       "      <td>4.381</td>\n",
       "      <td>263.400</td>\n",
       "      <td>4.399</td>\n",
       "      <td>261.733</td>\n",
       "      <td>-9.808</td>\n",
       "      <td>889.825</td>\n",
       "      <td>54.437</td>\n",
       "      <td>4.352931</td>\n",
       "    </tr>\n",
       "    <tr>\n",
       "      <th>70174</th>\n",
       "      <td>2020-12-31 23:30:00</td>\n",
       "      <td>3.730</td>\n",
       "      <td>242.580</td>\n",
       "      <td>3.280</td>\n",
       "      <td>252.492</td>\n",
       "      <td>3.204</td>\n",
       "      <td>268.600</td>\n",
       "      <td>3.446</td>\n",
       "      <td>266.733</td>\n",
       "      <td>-9.633</td>\n",
       "      <td>889.492</td>\n",
       "      <td>54.677</td>\n",
       "      <td>7.185250</td>\n",
       "    </tr>\n",
       "    <tr>\n",
       "      <th>70175</th>\n",
       "      <td>2020-12-31 23:45:00</td>\n",
       "      <td>3.291</td>\n",
       "      <td>243.733</td>\n",
       "      <td>3.311</td>\n",
       "      <td>254.267</td>\n",
       "      <td>3.643</td>\n",
       "      <td>266.733</td>\n",
       "      <td>4.306</td>\n",
       "      <td>268.633</td>\n",
       "      <td>-8.991</td>\n",
       "      <td>889.492</td>\n",
       "      <td>53.381</td>\n",
       "      <td>12.384466</td>\n",
       "    </tr>\n",
       "  </tbody>\n",
       "</table>\n",
       "<p>70176 rows × 13 columns</p>\n",
       "</div>"
      ],
      "text/plain": [
       "                      Time  Wind speed at height of 10 meters (m/s)  \\\n",
       "0      2019-01-01 00:00:00                                    2.209   \n",
       "1      2019-01-01 00:15:00                                    1.828   \n",
       "2      2019-01-01 00:30:00                                    2.193   \n",
       "3      2019-01-01 00:45:00                                    2.654   \n",
       "4      2019-01-01 01:00:00                                    2.249   \n",
       "...                    ...                                      ...   \n",
       "70171  2020-12-31 22:45:00                                    5.738   \n",
       "70172  2020-12-31 23:00:00                                    5.748   \n",
       "70173  2020-12-31 23:15:00                                    4.468   \n",
       "70174  2020-12-31 23:30:00                                    3.730   \n",
       "70175  2020-12-31 23:45:00                                    3.291   \n",
       "\n",
       "       Wind direction at height of 10 meters (˚)  \\\n",
       "0                                         81.317   \n",
       "1                                         77.460   \n",
       "2                                         86.700   \n",
       "3                                         78.160   \n",
       "4                                         94.297   \n",
       "...                                          ...   \n",
       "70171                                    234.600   \n",
       "70172                                    229.333   \n",
       "70173                                    235.133   \n",
       "70174                                    242.580   \n",
       "70175                                    243.733   \n",
       "\n",
       "       Wind speed at height of 30 meters (m/s)  \\\n",
       "0                                        1.991   \n",
       "1                                        1.698   \n",
       "2                                        2.313   \n",
       "3                                        2.494   \n",
       "4                                        2.192   \n",
       "...                                        ...   \n",
       "70171                                    6.408   \n",
       "70172                                    6.231   \n",
       "70173                                    4.406   \n",
       "70174                                    3.280   \n",
       "70175                                    3.311   \n",
       "\n",
       "       Wind direction at height of 30 meters (˚)  \\\n",
       "0                                         74.814   \n",
       "1                                         75.048   \n",
       "2                                         84.688   \n",
       "3                                         74.939   \n",
       "4                                         91.140   \n",
       "...                                          ...   \n",
       "70171                                    235.454   \n",
       "70172                                    233.423   \n",
       "70173                                    253.261   \n",
       "70174                                    252.492   \n",
       "70175                                    254.267   \n",
       "\n",
       "       Wind speed at height of 50 meters (m/s)  \\\n",
       "0                                        2.094   \n",
       "1                                        1.757   \n",
       "2                                        2.344   \n",
       "3                                        2.574   \n",
       "4                                        2.558   \n",
       "...                                        ...   \n",
       "70171                                    6.575   \n",
       "70172                                    6.372   \n",
       "70173                                    4.381   \n",
       "70174                                    3.204   \n",
       "70175                                    3.643   \n",
       "\n",
       "       Wind direction at height of 50 meters (˚)  \\\n",
       "0                                         77.667   \n",
       "1                                         88.733   \n",
       "2                                         89.100   \n",
       "3                                         87.267   \n",
       "4                                         96.900   \n",
       "...                                          ...   \n",
       "70171                                    242.033   \n",
       "70172                                    239.800   \n",
       "70173                                    263.400   \n",
       "70174                                    268.600   \n",
       "70175                                    266.733   \n",
       "\n",
       "       Wind speed - at the height of wheel hub (m/s)  \\\n",
       "0                                              2.494   \n",
       "1                                              1.882   \n",
       "2                                              2.350   \n",
       "3                                              2.808   \n",
       "4                                              2.924   \n",
       "...                                              ...   \n",
       "70171                                          6.680   \n",
       "70172                                          6.448   \n",
       "70173                                          4.399   \n",
       "70174                                          3.446   \n",
       "70175                                          4.306   \n",
       "\n",
       "       Wind speed - at the height of wheel hub (˚)  Air temperature (°C)   \\\n",
       "0                                           74.500                -13.484   \n",
       "1                                           74.367                -13.691   \n",
       "2                                           89.000                -13.766   \n",
       "3                                           82.733                -13.691   \n",
       "4                                           92.967                -13.447   \n",
       "...                                            ...                    ...   \n",
       "70171                                      238.433                 -9.108   \n",
       "70172                                      236.833                 -9.978   \n",
       "70173                                      261.733                 -9.808   \n",
       "70174                                      266.733                 -9.633   \n",
       "70175                                      268.633                 -8.991   \n",
       "\n",
       "       Atmosphere (hpa)  Relative humidity (%)      Power  \n",
       "0               889.867                 76.320   0.254383  \n",
       "1               889.575                 76.757   0.329703  \n",
       "2               889.942                 76.981   0.296306  \n",
       "3               889.675                 76.821   0.187590  \n",
       "4               890.025                 74.571   0.081005  \n",
       "...                 ...                    ...        ...  \n",
       "70171           890.008                 53.312  13.633642  \n",
       "70172           889.817                 53.877   6.869759  \n",
       "70173           889.825                 54.437   4.352931  \n",
       "70174           889.492                 54.677   7.185250  \n",
       "70175           889.492                 53.381  12.384466  \n",
       "\n",
       "[70176 rows x 13 columns]"
      ]
     },
     "execution_count": 4,
     "metadata": {},
     "output_type": "execute_result"
    }
   ],
   "source": [
    "#renaming a column name\n",
    "df.rename(columns = {'Power (MW)':'Power'}, inplace = True)\n",
    "df.rename(columns={'Time(year-month-day h:m:s)':'Time'},inplace = True)\n",
    "df"
   ]
  },
  {
   "cell_type": "markdown",
   "metadata": {
    "id": "Tpbresw9leRm"
   },
   "source": [
    "## **SPLITTING THE VARIABLES INTO DEPENDENT AND INDEPENDENT VARIABLES**"
   ]
  },
  {
   "cell_type": "code",
   "execution_count": 5,
   "metadata": {
    "colab": {
     "base_uri": "https://localhost:8080/"
    },
    "id": "Y1krerUXoqAv",
    "outputId": "3212aeca-a628-40a9-da37-1a1fef09edd1"
   },
   "outputs": [
    {
     "data": {
      "text/plain": [
       "0         0.254383\n",
       "1         0.329703\n",
       "2         0.296306\n",
       "3         0.187590\n",
       "4         0.081005\n",
       "           ...    \n",
       "70171    13.633642\n",
       "70172     6.869759\n",
       "70173     4.352931\n",
       "70174     7.185250\n",
       "70175    12.384466\n",
       "Name: Power, Length: 70176, dtype: float64"
      ]
     },
     "execution_count": 5,
     "metadata": {},
     "output_type": "execute_result"
    }
   ],
   "source": [
    "#dependent variable\n",
    "y=df['Power']\n",
    "y"
   ]
  },
  {
   "cell_type": "code",
   "execution_count": 6,
   "metadata": {
    "colab": {
     "base_uri": "https://localhost:8080/",
     "height": 320
    },
    "id": "GupmFa11pIr2",
    "outputId": "b2d82984-317a-4392-f516-eaa3d632984e"
   },
   "outputs": [
    {
     "data": {
      "text/html": [
       "<div>\n",
       "<style scoped>\n",
       "    .dataframe tbody tr th:only-of-type {\n",
       "        vertical-align: middle;\n",
       "    }\n",
       "\n",
       "    .dataframe tbody tr th {\n",
       "        vertical-align: top;\n",
       "    }\n",
       "\n",
       "    .dataframe thead th {\n",
       "        text-align: right;\n",
       "    }\n",
       "</style>\n",
       "<table border=\"1\" class=\"dataframe\">\n",
       "  <thead>\n",
       "    <tr style=\"text-align: right;\">\n",
       "      <th></th>\n",
       "      <th>Wind speed at height of 10 meters (m/s)</th>\n",
       "      <th>Wind direction at height of 10 meters (˚)</th>\n",
       "      <th>Wind speed at height of 30 meters (m/s)</th>\n",
       "      <th>Wind direction at height of 30 meters (˚)</th>\n",
       "      <th>Wind speed at height of 50 meters (m/s)</th>\n",
       "      <th>Wind direction at height of 50 meters (˚)</th>\n",
       "      <th>Wind speed - at the height of wheel hub (m/s)</th>\n",
       "      <th>Wind speed - at the height of wheel hub (˚)</th>\n",
       "      <th>Air temperature (°C)</th>\n",
       "      <th>Atmosphere (hpa)</th>\n",
       "      <th>Relative humidity (%)</th>\n",
       "    </tr>\n",
       "  </thead>\n",
       "  <tbody>\n",
       "    <tr>\n",
       "      <th>0</th>\n",
       "      <td>2.209</td>\n",
       "      <td>81.317</td>\n",
       "      <td>1.991</td>\n",
       "      <td>74.814</td>\n",
       "      <td>2.094</td>\n",
       "      <td>77.667</td>\n",
       "      <td>2.494</td>\n",
       "      <td>74.500</td>\n",
       "      <td>-13.484</td>\n",
       "      <td>889.867</td>\n",
       "      <td>76.320</td>\n",
       "    </tr>\n",
       "    <tr>\n",
       "      <th>1</th>\n",
       "      <td>1.828</td>\n",
       "      <td>77.460</td>\n",
       "      <td>1.698</td>\n",
       "      <td>75.048</td>\n",
       "      <td>1.757</td>\n",
       "      <td>88.733</td>\n",
       "      <td>1.882</td>\n",
       "      <td>74.367</td>\n",
       "      <td>-13.691</td>\n",
       "      <td>889.575</td>\n",
       "      <td>76.757</td>\n",
       "    </tr>\n",
       "    <tr>\n",
       "      <th>2</th>\n",
       "      <td>2.193</td>\n",
       "      <td>86.700</td>\n",
       "      <td>2.313</td>\n",
       "      <td>84.688</td>\n",
       "      <td>2.344</td>\n",
       "      <td>89.100</td>\n",
       "      <td>2.350</td>\n",
       "      <td>89.000</td>\n",
       "      <td>-13.766</td>\n",
       "      <td>889.942</td>\n",
       "      <td>76.981</td>\n",
       "    </tr>\n",
       "    <tr>\n",
       "      <th>3</th>\n",
       "      <td>2.654</td>\n",
       "      <td>78.160</td>\n",
       "      <td>2.494</td>\n",
       "      <td>74.939</td>\n",
       "      <td>2.574</td>\n",
       "      <td>87.267</td>\n",
       "      <td>2.808</td>\n",
       "      <td>82.733</td>\n",
       "      <td>-13.691</td>\n",
       "      <td>889.675</td>\n",
       "      <td>76.821</td>\n",
       "    </tr>\n",
       "    <tr>\n",
       "      <th>4</th>\n",
       "      <td>2.249</td>\n",
       "      <td>94.297</td>\n",
       "      <td>2.192</td>\n",
       "      <td>91.140</td>\n",
       "      <td>2.558</td>\n",
       "      <td>96.900</td>\n",
       "      <td>2.924</td>\n",
       "      <td>92.967</td>\n",
       "      <td>-13.447</td>\n",
       "      <td>890.025</td>\n",
       "      <td>74.571</td>\n",
       "    </tr>\n",
       "  </tbody>\n",
       "</table>\n",
       "</div>"
      ],
      "text/plain": [
       "   Wind speed at height of 10 meters (m/s)  \\\n",
       "0                                    2.209   \n",
       "1                                    1.828   \n",
       "2                                    2.193   \n",
       "3                                    2.654   \n",
       "4                                    2.249   \n",
       "\n",
       "   Wind direction at height of 10 meters (˚)  \\\n",
       "0                                     81.317   \n",
       "1                                     77.460   \n",
       "2                                     86.700   \n",
       "3                                     78.160   \n",
       "4                                     94.297   \n",
       "\n",
       "   Wind speed at height of 30 meters (m/s)  \\\n",
       "0                                    1.991   \n",
       "1                                    1.698   \n",
       "2                                    2.313   \n",
       "3                                    2.494   \n",
       "4                                    2.192   \n",
       "\n",
       "   Wind direction at height of 30 meters (˚)  \\\n",
       "0                                     74.814   \n",
       "1                                     75.048   \n",
       "2                                     84.688   \n",
       "3                                     74.939   \n",
       "4                                     91.140   \n",
       "\n",
       "   Wind speed at height of 50 meters (m/s)  \\\n",
       "0                                    2.094   \n",
       "1                                    1.757   \n",
       "2                                    2.344   \n",
       "3                                    2.574   \n",
       "4                                    2.558   \n",
       "\n",
       "   Wind direction at height of 50 meters (˚)  \\\n",
       "0                                     77.667   \n",
       "1                                     88.733   \n",
       "2                                     89.100   \n",
       "3                                     87.267   \n",
       "4                                     96.900   \n",
       "\n",
       "   Wind speed - at the height of wheel hub (m/s)  \\\n",
       "0                                          2.494   \n",
       "1                                          1.882   \n",
       "2                                          2.350   \n",
       "3                                          2.808   \n",
       "4                                          2.924   \n",
       "\n",
       "   Wind speed - at the height of wheel hub (˚)  Air temperature (°C)   \\\n",
       "0                                       74.500                -13.484   \n",
       "1                                       74.367                -13.691   \n",
       "2                                       89.000                -13.766   \n",
       "3                                       82.733                -13.691   \n",
       "4                                       92.967                -13.447   \n",
       "\n",
       "   Atmosphere (hpa)  Relative humidity (%)  \n",
       "0           889.867                 76.320  \n",
       "1           889.575                 76.757  \n",
       "2           889.942                 76.981  \n",
       "3           889.675                 76.821  \n",
       "4           890.025                 74.571  "
      ]
     },
     "execution_count": 6,
     "metadata": {},
     "output_type": "execute_result"
    }
   ],
   "source": [
    "#independent variable\n",
    "X=df.drop(columns=['Power','Time'],axis=1)\n",
    "X.head()"
   ]
  },
  {
   "cell_type": "markdown",
   "metadata": {
    "id": "h7hNbpSVlp2l"
   },
   "source": [
    "## **SPLITTING THE DATASET INTO TRAINING DATA AND TESTING DATA**"
   ]
  },
  {
   "cell_type": "code",
   "execution_count": 7,
   "metadata": {
    "id": "xy76uJy5pSZ0"
   },
   "outputs": [],
   "source": [
    "from sklearn.model_selection import train_test_split\n",
    "X_train,X_test,y_train,y_test = train_test_split(X,y,test_size=0.3,random_state=0)\n",
    "#0.3 indicates 30% test dataset and remaining 70% training dataset which is ideal size of dataset for ml algorithms training and testing "
   ]
  },
  {
   "cell_type": "code",
   "execution_count": 8,
   "metadata": {
    "colab": {
     "base_uri": "https://localhost:8080/",
     "height": 537
    },
    "id": "HVoL2BlqpUud",
    "outputId": "eec91fc0-38c7-4355-9d71-68ae0f44dd02"
   },
   "outputs": [
    {
     "data": {
      "text/html": [
       "<div>\n",
       "<style scoped>\n",
       "    .dataframe tbody tr th:only-of-type {\n",
       "        vertical-align: middle;\n",
       "    }\n",
       "\n",
       "    .dataframe tbody tr th {\n",
       "        vertical-align: top;\n",
       "    }\n",
       "\n",
       "    .dataframe thead th {\n",
       "        text-align: right;\n",
       "    }\n",
       "</style>\n",
       "<table border=\"1\" class=\"dataframe\">\n",
       "  <thead>\n",
       "    <tr style=\"text-align: right;\">\n",
       "      <th></th>\n",
       "      <th>Wind speed at height of 10 meters (m/s)</th>\n",
       "      <th>Wind direction at height of 10 meters (˚)</th>\n",
       "      <th>Wind speed at height of 30 meters (m/s)</th>\n",
       "      <th>Wind direction at height of 30 meters (˚)</th>\n",
       "      <th>Wind speed at height of 50 meters (m/s)</th>\n",
       "      <th>Wind direction at height of 50 meters (˚)</th>\n",
       "      <th>Wind speed - at the height of wheel hub (m/s)</th>\n",
       "      <th>Wind speed - at the height of wheel hub (˚)</th>\n",
       "      <th>Air temperature (°C)</th>\n",
       "      <th>Atmosphere (hpa)</th>\n",
       "      <th>Relative humidity (%)</th>\n",
       "    </tr>\n",
       "  </thead>\n",
       "  <tbody>\n",
       "    <tr>\n",
       "      <th>63536</th>\n",
       "      <td>1.631</td>\n",
       "      <td>169.873</td>\n",
       "      <td>1.523</td>\n",
       "      <td>137.859</td>\n",
       "      <td>0.861</td>\n",
       "      <td>142.867</td>\n",
       "      <td>1.412</td>\n",
       "      <td>140.867</td>\n",
       "      <td>9.637</td>\n",
       "      <td>890.017</td>\n",
       "      <td>24.992</td>\n",
       "    </tr>\n",
       "    <tr>\n",
       "      <th>21654</th>\n",
       "      <td>4.767</td>\n",
       "      <td>294.853</td>\n",
       "      <td>4.646</td>\n",
       "      <td>292.855</td>\n",
       "      <td>5.020</td>\n",
       "      <td>298.733</td>\n",
       "      <td>5.605</td>\n",
       "      <td>296.467</td>\n",
       "      <td>31.287</td>\n",
       "      <td>889.467</td>\n",
       "      <td>10.667</td>\n",
       "    </tr>\n",
       "    <tr>\n",
       "      <th>2093</th>\n",
       "      <td>1.602</td>\n",
       "      <td>259.433</td>\n",
       "      <td>1.888</td>\n",
       "      <td>282.533</td>\n",
       "      <td>3.430</td>\n",
       "      <td>316.200</td>\n",
       "      <td>5.276</td>\n",
       "      <td>325.333</td>\n",
       "      <td>-6.734</td>\n",
       "      <td>889.533</td>\n",
       "      <td>61.360</td>\n",
       "    </tr>\n",
       "    <tr>\n",
       "      <th>61223</th>\n",
       "      <td>13.250</td>\n",
       "      <td>288.053</td>\n",
       "      <td>14.901</td>\n",
       "      <td>282.997</td>\n",
       "      <td>14.910</td>\n",
       "      <td>286.033</td>\n",
       "      <td>15.507</td>\n",
       "      <td>284.533</td>\n",
       "      <td>8.494</td>\n",
       "      <td>889.675</td>\n",
       "      <td>58.448</td>\n",
       "    </tr>\n",
       "    <tr>\n",
       "      <th>31193</th>\n",
       "      <td>10.090</td>\n",
       "      <td>235.367</td>\n",
       "      <td>11.646</td>\n",
       "      <td>257.968</td>\n",
       "      <td>12.232</td>\n",
       "      <td>262.367</td>\n",
       "      <td>12.430</td>\n",
       "      <td>258.833</td>\n",
       "      <td>-3.739</td>\n",
       "      <td>889.925</td>\n",
       "      <td>60.640</td>\n",
       "    </tr>\n",
       "    <tr>\n",
       "      <th>...</th>\n",
       "      <td>...</td>\n",
       "      <td>...</td>\n",
       "      <td>...</td>\n",
       "      <td>...</td>\n",
       "      <td>...</td>\n",
       "      <td>...</td>\n",
       "      <td>...</td>\n",
       "      <td>...</td>\n",
       "      <td>...</td>\n",
       "      <td>...</td>\n",
       "      <td>...</td>\n",
       "    </tr>\n",
       "    <tr>\n",
       "      <th>21243</th>\n",
       "      <td>7.177</td>\n",
       "      <td>219.620</td>\n",
       "      <td>8.028</td>\n",
       "      <td>214.812</td>\n",
       "      <td>7.453</td>\n",
       "      <td>218.833</td>\n",
       "      <td>6.667</td>\n",
       "      <td>215.633</td>\n",
       "      <td>21.352</td>\n",
       "      <td>889.583</td>\n",
       "      <td>20.891</td>\n",
       "    </tr>\n",
       "    <tr>\n",
       "      <th>45891</th>\n",
       "      <td>1.383</td>\n",
       "      <td>180.110</td>\n",
       "      <td>0.060</td>\n",
       "      <td>89.039</td>\n",
       "      <td>0.506</td>\n",
       "      <td>92.133</td>\n",
       "      <td>1.857</td>\n",
       "      <td>86.000</td>\n",
       "      <td>11.978</td>\n",
       "      <td>889.633</td>\n",
       "      <td>11.776</td>\n",
       "    </tr>\n",
       "    <tr>\n",
       "      <th>42613</th>\n",
       "      <td>4.724</td>\n",
       "      <td>249.713</td>\n",
       "      <td>5.846</td>\n",
       "      <td>258.673</td>\n",
       "      <td>6.221</td>\n",
       "      <td>264.933</td>\n",
       "      <td>6.434</td>\n",
       "      <td>262.133</td>\n",
       "      <td>10.316</td>\n",
       "      <td>889.817</td>\n",
       "      <td>41.109</td>\n",
       "    </tr>\n",
       "    <tr>\n",
       "      <th>43567</th>\n",
       "      <td>12.263</td>\n",
       "      <td>244.300</td>\n",
       "      <td>13.435</td>\n",
       "      <td>275.286</td>\n",
       "      <td>14.030</td>\n",
       "      <td>277.833</td>\n",
       "      <td>14.614</td>\n",
       "      <td>275.733</td>\n",
       "      <td>2.877</td>\n",
       "      <td>889.792</td>\n",
       "      <td>60.389</td>\n",
       "    </tr>\n",
       "    <tr>\n",
       "      <th>68268</th>\n",
       "      <td>7.835</td>\n",
       "      <td>264.867</td>\n",
       "      <td>9.143</td>\n",
       "      <td>256.757</td>\n",
       "      <td>9.553</td>\n",
       "      <td>257.983</td>\n",
       "      <td>9.709</td>\n",
       "      <td>251.083</td>\n",
       "      <td>-11.953</td>\n",
       "      <td>889.867</td>\n",
       "      <td>58.155</td>\n",
       "    </tr>\n",
       "  </tbody>\n",
       "</table>\n",
       "<p>49123 rows × 11 columns</p>\n",
       "</div>"
      ],
      "text/plain": [
       "       Wind speed at height of 10 meters (m/s)  \\\n",
       "63536                                    1.631   \n",
       "21654                                    4.767   \n",
       "2093                                     1.602   \n",
       "61223                                   13.250   \n",
       "31193                                   10.090   \n",
       "...                                        ...   \n",
       "21243                                    7.177   \n",
       "45891                                    1.383   \n",
       "42613                                    4.724   \n",
       "43567                                   12.263   \n",
       "68268                                    7.835   \n",
       "\n",
       "       Wind direction at height of 10 meters (˚)  \\\n",
       "63536                                    169.873   \n",
       "21654                                    294.853   \n",
       "2093                                     259.433   \n",
       "61223                                    288.053   \n",
       "31193                                    235.367   \n",
       "...                                          ...   \n",
       "21243                                    219.620   \n",
       "45891                                    180.110   \n",
       "42613                                    249.713   \n",
       "43567                                    244.300   \n",
       "68268                                    264.867   \n",
       "\n",
       "       Wind speed at height of 30 meters (m/s)  \\\n",
       "63536                                    1.523   \n",
       "21654                                    4.646   \n",
       "2093                                     1.888   \n",
       "61223                                   14.901   \n",
       "31193                                   11.646   \n",
       "...                                        ...   \n",
       "21243                                    8.028   \n",
       "45891                                    0.060   \n",
       "42613                                    5.846   \n",
       "43567                                   13.435   \n",
       "68268                                    9.143   \n",
       "\n",
       "       Wind direction at height of 30 meters (˚)  \\\n",
       "63536                                    137.859   \n",
       "21654                                    292.855   \n",
       "2093                                     282.533   \n",
       "61223                                    282.997   \n",
       "31193                                    257.968   \n",
       "...                                          ...   \n",
       "21243                                    214.812   \n",
       "45891                                     89.039   \n",
       "42613                                    258.673   \n",
       "43567                                    275.286   \n",
       "68268                                    256.757   \n",
       "\n",
       "       Wind speed at height of 50 meters (m/s)  \\\n",
       "63536                                    0.861   \n",
       "21654                                    5.020   \n",
       "2093                                     3.430   \n",
       "61223                                   14.910   \n",
       "31193                                   12.232   \n",
       "...                                        ...   \n",
       "21243                                    7.453   \n",
       "45891                                    0.506   \n",
       "42613                                    6.221   \n",
       "43567                                   14.030   \n",
       "68268                                    9.553   \n",
       "\n",
       "       Wind direction at height of 50 meters (˚)  \\\n",
       "63536                                    142.867   \n",
       "21654                                    298.733   \n",
       "2093                                     316.200   \n",
       "61223                                    286.033   \n",
       "31193                                    262.367   \n",
       "...                                          ...   \n",
       "21243                                    218.833   \n",
       "45891                                     92.133   \n",
       "42613                                    264.933   \n",
       "43567                                    277.833   \n",
       "68268                                    257.983   \n",
       "\n",
       "       Wind speed - at the height of wheel hub (m/s)  \\\n",
       "63536                                          1.412   \n",
       "21654                                          5.605   \n",
       "2093                                           5.276   \n",
       "61223                                         15.507   \n",
       "31193                                         12.430   \n",
       "...                                              ...   \n",
       "21243                                          6.667   \n",
       "45891                                          1.857   \n",
       "42613                                          6.434   \n",
       "43567                                         14.614   \n",
       "68268                                          9.709   \n",
       "\n",
       "       Wind speed - at the height of wheel hub (˚)  Air temperature (°C)   \\\n",
       "63536                                      140.867                  9.637   \n",
       "21654                                      296.467                 31.287   \n",
       "2093                                       325.333                 -6.734   \n",
       "61223                                      284.533                  8.494   \n",
       "31193                                      258.833                 -3.739   \n",
       "...                                            ...                    ...   \n",
       "21243                                      215.633                 21.352   \n",
       "45891                                       86.000                 11.978   \n",
       "42613                                      262.133                 10.316   \n",
       "43567                                      275.733                  2.877   \n",
       "68268                                      251.083                -11.953   \n",
       "\n",
       "       Atmosphere (hpa)  Relative humidity (%)  \n",
       "63536           890.017                 24.992  \n",
       "21654           889.467                 10.667  \n",
       "2093            889.533                 61.360  \n",
       "61223           889.675                 58.448  \n",
       "31193           889.925                 60.640  \n",
       "...                 ...                    ...  \n",
       "21243           889.583                 20.891  \n",
       "45891           889.633                 11.776  \n",
       "42613           889.817                 41.109  \n",
       "43567           889.792                 60.389  \n",
       "68268           889.867                 58.155  \n",
       "\n",
       "[49123 rows x 11 columns]"
      ]
     },
     "execution_count": 8,
     "metadata": {},
     "output_type": "execute_result"
    }
   ],
   "source": [
    "X_train"
   ]
  },
  {
   "cell_type": "code",
   "execution_count": 9,
   "metadata": {
    "id": "WCsabiIaya6t"
   },
   "outputs": [],
   "source": [
    "# Feature Scaling\n",
    "from sklearn.preprocessing import StandardScaler\n",
    "\n",
    "sc = StandardScaler()\n",
    "X_train = sc.fit_transform(X_train)\n",
    "X_test = sc.transform(X_test)"
   ]
  },
  {
   "cell_type": "markdown",
   "metadata": {
    "id": "2q-J4Giil8OF"
   },
   "source": [
    "## **TRAINING THE MODEL**"
   ]
  },
  {
   "cell_type": "code",
   "execution_count": 10,
   "metadata": {
    "colab": {
     "base_uri": "https://localhost:8080/"
    },
    "id": "ZAWuXSGUprMU",
    "outputId": "c366c3b1-00ee-4c13-d5dd-188e2750e38a"
   },
   "outputs": [
    {
     "data": {
      "text/plain": [
       "RandomForestRegressor(n_estimators=30, random_state=0)"
      ]
     },
     "execution_count": 10,
     "metadata": {},
     "output_type": "execute_result"
    }
   ],
   "source": [
    "from sklearn.ensemble import RandomForestRegressor\n",
    "regressor = RandomForestRegressor (n_estimators=30, random_state=0)\n",
    "regressor.fit(X_train,y_train)"
   ]
  },
  {
   "cell_type": "markdown",
   "metadata": {
    "id": "nUosMB1ll_Z9"
   },
   "source": [
    "## **TESTING THE MODEL**"
   ]
  },
  {
   "cell_type": "code",
   "execution_count": 11,
   "metadata": {
    "colab": {
     "base_uri": "https://localhost:8080/"
    },
    "id": "0oXk-Ue5ve9v",
    "outputId": "a2fe65db-614c-469a-8bac-f2f92ca9a227"
   },
   "outputs": [
    {
     "data": {
      "text/plain": [
       "array([33.26070127, 25.18657937,  0.32804497, ...,  1.21720073,\n",
       "        0.49453063, 70.8779573 ])"
      ]
     },
     "execution_count": 11,
     "metadata": {},
     "output_type": "execute_result"
    }
   ],
   "source": [
    "y_pred=regressor.predict(X_test)\n",
    "y_pred"
   ]
  },
  {
   "cell_type": "code",
   "execution_count": 12,
   "metadata": {
    "colab": {
     "base_uri": "https://localhost:8080/",
     "height": 424
    },
    "id": "C44Q-R7Qv12H",
    "outputId": "8d5cd348-c132-4f84-892e-18665121042e"
   },
   "outputs": [
    {
     "data": {
      "text/html": [
       "<div>\n",
       "<style scoped>\n",
       "    .dataframe tbody tr th:only-of-type {\n",
       "        vertical-align: middle;\n",
       "    }\n",
       "\n",
       "    .dataframe tbody tr th {\n",
       "        vertical-align: top;\n",
       "    }\n",
       "\n",
       "    .dataframe thead th {\n",
       "        text-align: right;\n",
       "    }\n",
       "</style>\n",
       "<table border=\"1\" class=\"dataframe\">\n",
       "  <thead>\n",
       "    <tr style=\"text-align: right;\">\n",
       "      <th></th>\n",
       "      <th>Actual_y_value</th>\n",
       "      <th>Predicted_y_value</th>\n",
       "    </tr>\n",
       "  </thead>\n",
       "  <tbody>\n",
       "    <tr>\n",
       "      <th>50585</th>\n",
       "      <td>41.646313</td>\n",
       "      <td>33.260701</td>\n",
       "    </tr>\n",
       "    <tr>\n",
       "      <th>1610</th>\n",
       "      <td>26.752834</td>\n",
       "      <td>25.186579</td>\n",
       "    </tr>\n",
       "    <tr>\n",
       "      <th>68970</th>\n",
       "      <td>0.186879</td>\n",
       "      <td>0.328045</td>\n",
       "    </tr>\n",
       "    <tr>\n",
       "      <th>66444</th>\n",
       "      <td>1.792049</td>\n",
       "      <td>0.463834</td>\n",
       "    </tr>\n",
       "    <tr>\n",
       "      <th>38116</th>\n",
       "      <td>0.140692</td>\n",
       "      <td>0.483375</td>\n",
       "    </tr>\n",
       "    <tr>\n",
       "      <th>...</th>\n",
       "      <td>...</td>\n",
       "      <td>...</td>\n",
       "    </tr>\n",
       "    <tr>\n",
       "      <th>43785</th>\n",
       "      <td>7.865973</td>\n",
       "      <td>8.338973</td>\n",
       "    </tr>\n",
       "    <tr>\n",
       "      <th>34494</th>\n",
       "      <td>49.145634</td>\n",
       "      <td>51.113949</td>\n",
       "    </tr>\n",
       "    <tr>\n",
       "      <th>30848</th>\n",
       "      <td>1.079351</td>\n",
       "      <td>1.217201</td>\n",
       "    </tr>\n",
       "    <tr>\n",
       "      <th>33926</th>\n",
       "      <td>0.900288</td>\n",
       "      <td>0.494531</td>\n",
       "    </tr>\n",
       "    <tr>\n",
       "      <th>54458</th>\n",
       "      <td>84.859420</td>\n",
       "      <td>70.877957</td>\n",
       "    </tr>\n",
       "  </tbody>\n",
       "</table>\n",
       "<p>21053 rows × 2 columns</p>\n",
       "</div>"
      ],
      "text/plain": [
       "       Actual_y_value  Predicted_y_value\n",
       "50585       41.646313          33.260701\n",
       "1610        26.752834          25.186579\n",
       "68970        0.186879           0.328045\n",
       "66444        1.792049           0.463834\n",
       "38116        0.140692           0.483375\n",
       "...               ...                ...\n",
       "43785        7.865973           8.338973\n",
       "34494       49.145634          51.113949\n",
       "30848        1.079351           1.217201\n",
       "33926        0.900288           0.494531\n",
       "54458       84.859420          70.877957\n",
       "\n",
       "[21053 rows x 2 columns]"
      ]
     },
     "execution_count": 12,
     "metadata": {},
     "output_type": "execute_result"
    }
   ],
   "source": [
    "Acc=pd.DataFrame({'Actual_y_value':y_test,'Predicted_y_value':y_pred})\n",
    "Acc"
   ]
  },
  {
   "cell_type": "markdown",
   "metadata": {
    "id": "JNpgKLWd2gfl"
   },
   "source": [
    "## **EVALUATION USING METRICS**"
   ]
  },
  {
   "cell_type": "code",
   "execution_count": 13,
   "metadata": {
    "colab": {
     "base_uri": "https://localhost:8080/"
    },
    "id": "xSPQ2eHmUmp2",
    "outputId": "440503fa-6e1e-4ce1-eae2-2dc56f0f972e"
   },
   "outputs": [
    {
     "data": {
      "text/plain": [
       "0.8849999426996336"
      ]
     },
     "execution_count": 13,
     "metadata": {},
     "output_type": "execute_result"
    }
   ],
   "source": [
    "from sklearn.metrics import r2_score\n",
    "\n",
    "r2_score(y_test, y_pred)"
   ]
  },
  {
   "cell_type": "markdown",
   "metadata": {
    "id": "-f1MRwC56t5G"
   },
   "source": [
    "## **IBM-DEPLOYMENT**"
   ]
  },
  {
   "cell_type": "code",
   "execution_count": 14,
   "metadata": {
    "colab": {
     "base_uri": "https://localhost:8080/"
    },
    "id": "m5qLWmpo5GWO",
    "outputId": "defc67ad-c690-4efc-de06-463f5040692b"
   },
   "outputs": [
    {
     "name": "stdout",
     "output_type": "stream",
     "text": [
      "Requirement already satisfied: ibm-watson-machine-learning in /opt/conda/envs/Python-3.9/lib/python3.9/site-packages (1.0.257)\n",
      "Requirement already satisfied: certifi in /opt/conda/envs/Python-3.9/lib/python3.9/site-packages (from ibm-watson-machine-learning) (2022.9.24)\n",
      "Requirement already satisfied: packaging in /opt/conda/envs/Python-3.9/lib/python3.9/site-packages (from ibm-watson-machine-learning) (21.3)\n",
      "Requirement already satisfied: requests in /opt/conda/envs/Python-3.9/lib/python3.9/site-packages (from ibm-watson-machine-learning) (2.26.0)\n",
      "Requirement already satisfied: lomond in /opt/conda/envs/Python-3.9/lib/python3.9/site-packages (from ibm-watson-machine-learning) (0.3.3)\n",
      "Requirement already satisfied: tabulate in /opt/conda/envs/Python-3.9/lib/python3.9/site-packages (from ibm-watson-machine-learning) (0.8.9)\n",
      "Requirement already satisfied: ibm-cos-sdk==2.11.* in /opt/conda/envs/Python-3.9/lib/python3.9/site-packages (from ibm-watson-machine-learning) (2.11.0)\n",
      "Requirement already satisfied: urllib3 in /opt/conda/envs/Python-3.9/lib/python3.9/site-packages (from ibm-watson-machine-learning) (1.26.7)\n",
      "Requirement already satisfied: pandas<1.5.0,>=0.24.2 in /opt/conda/envs/Python-3.9/lib/python3.9/site-packages (from ibm-watson-machine-learning) (1.3.4)\n",
      "Requirement already satisfied: importlib-metadata in /opt/conda/envs/Python-3.9/lib/python3.9/site-packages (from ibm-watson-machine-learning) (4.8.2)\n",
      "Requirement already satisfied: ibm-cos-sdk-s3transfer==2.11.0 in /opt/conda/envs/Python-3.9/lib/python3.9/site-packages (from ibm-cos-sdk==2.11.*->ibm-watson-machine-learning) (2.11.0)\n",
      "Requirement already satisfied: jmespath<1.0.0,>=0.7.1 in /opt/conda/envs/Python-3.9/lib/python3.9/site-packages (from ibm-cos-sdk==2.11.*->ibm-watson-machine-learning) (0.10.0)\n",
      "Requirement already satisfied: ibm-cos-sdk-core==2.11.0 in /opt/conda/envs/Python-3.9/lib/python3.9/site-packages (from ibm-cos-sdk==2.11.*->ibm-watson-machine-learning) (2.11.0)\n",
      "Requirement already satisfied: python-dateutil<3.0.0,>=2.1 in /opt/conda/envs/Python-3.9/lib/python3.9/site-packages (from ibm-cos-sdk-core==2.11.0->ibm-cos-sdk==2.11.*->ibm-watson-machine-learning) (2.8.2)\n",
      "Requirement already satisfied: pytz>=2017.3 in /opt/conda/envs/Python-3.9/lib/python3.9/site-packages (from pandas<1.5.0,>=0.24.2->ibm-watson-machine-learning) (2021.3)\n",
      "Requirement already satisfied: numpy>=1.17.3 in /opt/conda/envs/Python-3.9/lib/python3.9/site-packages (from pandas<1.5.0,>=0.24.2->ibm-watson-machine-learning) (1.20.3)\n",
      "Requirement already satisfied: six>=1.5 in /opt/conda/envs/Python-3.9/lib/python3.9/site-packages (from python-dateutil<3.0.0,>=2.1->ibm-cos-sdk-core==2.11.0->ibm-cos-sdk==2.11.*->ibm-watson-machine-learning) (1.15.0)\n",
      "Requirement already satisfied: idna<4,>=2.5 in /opt/conda/envs/Python-3.9/lib/python3.9/site-packages (from requests->ibm-watson-machine-learning) (3.3)\n",
      "Requirement already satisfied: charset-normalizer~=2.0.0 in /opt/conda/envs/Python-3.9/lib/python3.9/site-packages (from requests->ibm-watson-machine-learning) (2.0.4)\n",
      "Requirement already satisfied: zipp>=0.5 in /opt/conda/envs/Python-3.9/lib/python3.9/site-packages (from importlib-metadata->ibm-watson-machine-learning) (3.6.0)\n",
      "Requirement already satisfied: pyparsing!=3.0.5,>=2.0.2 in /opt/conda/envs/Python-3.9/lib/python3.9/site-packages (from packaging->ibm-watson-machine-learning) (3.0.4)\n"
     ]
    }
   ],
   "source": [
    "!pip install -U ibm-watson-machine-learning"
   ]
  },
  {
   "cell_type": "code",
   "execution_count": 15,
   "metadata": {
    "id": "1955c751"
   },
   "outputs": [],
   "source": [
    "from ibm_watson_machine_learning import APIClient\n",
    "import json"
   ]
  },
  {
   "cell_type": "markdown",
   "metadata": {
    "id": "wyttiA5m6_xf"
   },
   "source": [
    "## **AUTHENTICATE AND SET SPACE**"
   ]
  },
  {
   "cell_type": "code",
   "execution_count": 16,
   "metadata": {
    "id": "33813d97"
   },
   "outputs": [],
   "source": [
    "wml_credentials = {\n",
    "    \"apikey\":\"Ke3Pq9j_CPfm7SmFG5cJerK2XZ4J-AeEMDYrAlxIxnA1\",\n",
    "    \"url\":\"https://us-south.ml.cloud.ibm.com\"\n",
    "}"
   ]
  },
  {
   "cell_type": "code",
   "execution_count": 17,
   "metadata": {
    "colab": {
     "base_uri": "https://localhost:8080/",
     "height": 413
    },
    "id": "ebe67e2f",
    "outputId": "8b1dc945-a891-4413-d562-273b0e587aad"
   },
   "outputs": [
    {
     "name": "stdout",
     "output_type": "stream",
     "text": [
      "Note: 'limit' is not provided. Only first 50 records will be displayed if the number of records exceed 50\n",
      "------------------------------------  ---------------  ------------------------\n",
      "ID                                    NAME             CREATED\n",
      "6df2e433-7c6e-4d6d-95ef-4abe297a223b  wind_prediction  2022-11-19T07:29:13.725Z\n",
      "------------------------------------  ---------------  ------------------------\n"
     ]
    }
   ],
   "source": [
    "wml_client = APIClient(wml_credentials)\n",
    "wml_client.spaces.list()"
   ]
  },
  {
   "cell_type": "code",
   "execution_count": 22,
   "metadata": {
    "id": "19adcdc6"
   },
   "outputs": [],
   "source": [
    "SPACE_ID= \"6df2e433-7c6e-4d6d-95ef-4abe297a223b\""
   ]
  },
  {
   "cell_type": "code",
   "execution_count": 23,
   "metadata": {
    "id": "7e480bfc",
    "outputId": "37972192-f538-40fc-9515-590ba0d7df7c"
   },
   "outputs": [
    {
     "data": {
      "text/plain": [
       "'SUCCESS'"
      ]
     },
     "execution_count": 23,
     "metadata": {},
     "output_type": "execute_result"
    }
   ],
   "source": [
    "wml_client.set.default_space(SPACE_ID)"
   ]
  },
  {
   "cell_type": "code",
   "execution_count": 24,
   "metadata": {
    "id": "c58905e8",
    "outputId": "cdc258b3-267d-4f7f-b2ac-ddd2e2444384"
   },
   "outputs": [
    {
     "name": "stdout",
     "output_type": "stream",
     "text": [
      "-------------------------------  ------------------------------------  ----\n",
      "NAME                             ASSET_ID                              TYPE\n",
      "default_py3.6                    0062b8c9-8b7d-44a0-a9b9-46c416adcbd9  base\n",
      "kernel-spark3.2-scala2.12        020d69ce-7ac1-5e68-ac1a-31189867356a  base\n",
      "pytorch-onnx_1.3-py3.7-edt       069ea134-3346-5748-b513-49120e15d288  base\n",
      "scikit-learn_0.20-py3.6          09c5a1d0-9c1e-4473-a344-eb7b665ff687  base\n",
      "spark-mllib_3.0-scala_2.12       09f4cff0-90a7-5899-b9ed-1ef348aebdee  base\n",
      "pytorch-onnx_rt22.1-py3.9        0b848dd4-e681-5599-be41-b5f6fccc6471  base\n",
      "ai-function_0.1-py3.6            0cdb0f1e-5376-4f4d-92dd-da3b69aa9bda  base\n",
      "shiny-r3.6                       0e6e79df-875e-4f24-8ae9-62dcc2148306  base\n",
      "tensorflow_2.4-py3.7-horovod     1092590a-307d-563d-9b62-4eb7d64b3f22  base\n",
      "pytorch_1.1-py3.6                10ac12d6-6b30-4ccd-8392-3e922c096a92  base\n",
      "tensorflow_1.15-py3.6-ddl        111e41b3-de2d-5422-a4d6-bf776828c4b7  base\n",
      "autoai-kb_rt22.2-py3.10          125b6d9a-5b1f-5e8d-972a-b251688ccf40  base\n",
      "runtime-22.1-py3.9               12b83a17-24d8-5082-900f-0ab31fbfd3cb  base\n",
      "scikit-learn_0.22-py3.6          154010fa-5b3b-4ac1-82af-4d5ee5abbc85  base\n",
      "default_r3.6                     1b70aec3-ab34-4b87-8aa0-a4a3c8296a36  base\n",
      "pytorch-onnx_1.3-py3.6           1bc6029a-cc97-56da-b8e0-39c3880dbbe7  base\n",
      "kernel-spark3.3-r3.6             1c9e5454-f216-59dd-a20e-474a5cdf5988  base\n",
      "pytorch-onnx_rt22.1-py3.9-edt    1d362186-7ad5-5b59-8b6c-9d0880bde37f  base\n",
      "tensorflow_2.1-py3.6             1eb25b84-d6ed-5dde-b6a5-3fbdf1665666  base\n",
      "spark-mllib_3.2                  20047f72-0a98-58c7-9ff5-a77b012eb8f5  base\n",
      "tensorflow_2.4-py3.8-horovod     217c16f6-178f-56bf-824a-b19f20564c49  base\n",
      "runtime-22.1-py3.9-cuda          26215f05-08c3-5a41-a1b0-da66306ce658  base\n",
      "do_py3.8                         295addb5-9ef9-547e-9bf4-92ae3563e720  base\n",
      "autoai-ts_3.8-py3.8              2aa0c932-798f-5ae9-abd6-15e0c2402fb5  base\n",
      "tensorflow_1.15-py3.6            2b73a275-7cbf-420b-a912-eae7f436e0bc  base\n",
      "kernel-spark3.3-py3.9            2b7961e2-e3b1-5a8c-a491-482c8368839a  base\n",
      "pytorch_1.2-py3.6                2c8ef57d-2687-4b7d-acce-01f94976dac1  base\n",
      "spark-mllib_2.3                  2e51f700-bca0-4b0d-88dc-5c6791338875  base\n",
      "pytorch-onnx_1.1-py3.6-edt       32983cea-3f32-4400-8965-dde874a8d67e  base\n",
      "spark-mllib_3.0-py37             36507ebe-8770-55ba-ab2a-eafe787600e9  base\n",
      "spark-mllib_2.4                  390d21f8-e58b-4fac-9c55-d7ceda621326  base\n",
      "autoai-ts_rt22.2-py3.10          396b2e83-0953-5b86-9a55-7ce1628a406f  base\n",
      "xgboost_0.82-py3.6               39e31acd-5f30-41dc-ae44-60233c80306e  base\n",
      "pytorch-onnx_1.2-py3.6-edt       40589d0e-7019-4e28-8daa-fb03b6f4fe12  base\n",
      "pytorch-onnx_rt22.2-py3.10       40e73f55-783a-5535-b3fa-0c8b94291431  base\n",
      "default_r36py38                  41c247d3-45f8-5a71-b065-8580229facf0  base\n",
      "autoai-ts_rt22.1-py3.9           4269d26e-07ba-5d40-8f66-2d495b0c71f7  base\n",
      "autoai-obm_3.0                   42b92e18-d9ab-567f-988a-4240ba1ed5f7  base\n",
      "pmml-3.0_4.3                     493bcb95-16f1-5bc5-bee8-81b8af80e9c7  base\n",
      "spark-mllib_2.4-r_3.6            49403dff-92e9-4c87-a3d7-a42d0021c095  base\n",
      "xgboost_0.90-py3.6               4ff8d6c2-1343-4c18-85e1-689c965304d3  base\n",
      "pytorch-onnx_1.1-py3.6           50f95b2a-bc16-43bb-bc94-b0bed208c60b  base\n",
      "autoai-ts_3.9-py3.8              52c57136-80fa-572e-8728-a5e7cbb42cde  base\n",
      "spark-mllib_2.4-scala_2.11       55a70f99-7320-4be5-9fb9-9edb5a443af5  base\n",
      "spark-mllib_3.0                  5c1b0ca2-4977-5c2e-9439-ffd44ea8ffe9  base\n",
      "autoai-obm_2.0                   5c2e37fa-80b8-5e77-840f-d912469614ee  base\n",
      "spss-modeler_18.1                5c3cad7e-507f-4b2a-a9a3-ab53a21dee8b  base\n",
      "cuda-py3.8                       5d3232bf-c86b-5df4-a2cd-7bb870a1cd4e  base\n",
      "runtime-22.2-py3.10-xc           5e8cddff-db4a-5a6a-b8aa-2d4af9864dab  base\n",
      "autoai-kb_3.1-py3.7              632d4b22-10aa-5180-88f0-f52dfb6444d7  base\n",
      "pytorch-onnx_1.7-py3.8           634d3cdc-b562-5bf9-a2d4-ea90a478456b  base\n",
      "spark-mllib_2.3-r_3.6            6586b9e3-ccd6-4f92-900f-0f8cb2bd6f0c  base\n",
      "tensorflow_2.4-py3.7             65e171d7-72d1-55d9-8ebb-f813d620c9bb  base\n",
      "spss-modeler_18.2                687eddc9-028a-4117-b9dd-e57b36f1efa5  base\n",
      "pytorch-onnx_1.2-py3.6           692a6a4d-2c4d-45ff-a1ed-b167ee55469a  base\n",
      "spark-mllib_2.3-scala_2.11       7963efe5-bbec-417e-92cf-0574e21b4e8d  base\n",
      "spark-mllib_2.4-py37             7abc992b-b685-532b-a122-a396a3cdbaab  base\n",
      "caffe_1.0-py3.6                  7bb3dbe2-da6e-4145-918d-b6d84aa93b6b  base\n",
      "pytorch-onnx_1.7-py3.7           812c6631-42b7-5613-982b-02098e6c909c  base\n",
      "cuda-py3.6                       82c79ece-4d12-40e6-8787-a7b9e0f62770  base\n",
      "tensorflow_1.15-py3.6-horovod    8964680e-d5e4-5bb8-919b-8342c6c0dfd8  base\n",
      "hybrid_0.1                       8c1a58c6-62b5-4dc4-987a-df751c2756b6  base\n",
      "pytorch-onnx_1.3-py3.7           8d5d8a87-a912-54cf-81ec-3914adaa988d  base\n",
      "caffe-ibm_1.0-py3.6              8d863266-7927-4d1e-97d7-56a7f4c0a19b  base\n",
      "runtime-22.2-py3.10-cuda         8ef391e4-ef58-5d46-b078-a82c211c1058  base\n",
      "spss-modeler_17.1                902d0051-84bd-4af6-ab6b-8f6aa6fdeabb  base\n",
      "do_12.10                         9100fd72-8159-4eb9-8a0b-a87e12eefa36  base\n",
      "do_py3.7                         9447fa8b-2051-4d24-9eef-5acb0e3c59f8  base\n",
      "spark-mllib_3.0-r_3.6            94bb6052-c837-589d-83f1-f4142f219e32  base\n",
      "cuda-py3.7-opence                94e9652b-7f2d-59d5-ba5a-23a414ea488f  base\n",
      "nlp-py3.8                        96e60351-99d4-5a1c-9cc0-473ac1b5a864  base\n",
      "cuda-py3.7                       9a44990c-1aa1-4c7d-baf8-c4099011741c  base\n",
      "hybrid_0.2                       9b3f9040-9cee-4ead-8d7a-780600f542f7  base\n",
      "spark-mllib_3.0-py38             9f7a8fc1-4d3c-5e65-ab90-41fa8de2d418  base\n",
      "autoai-kb_3.3-py3.7              a545cca3-02df-5c61-9e88-998b09dc79af  base\n",
      "spark-mllib_3.0-py39             a6082a27-5acc-5163-b02c-6b96916eb5e0  base\n",
      "runtime-22.1-py3.9-do            a7e7dbf1-1d03-5544-994d-e5ec845ce99a  base\n",
      "default_py3.8                    ab9e1b80-f2ce-592c-a7d2-4f2344f77194  base\n",
      "tensorflow_rt22.1-py3.9          acd9c798-6974-5d2f-a657-ce06e986df4d  base\n",
      "kernel-spark3.2-py3.9            ad7033ee-794e-58cf-812e-a95f4b64b207  base\n",
      "autoai-obm_2.0 with Spark 3.0    af10f35f-69fa-5d66-9bf5-acb58434263a  base\n",
      "runtime-22.2-py3.10              b56101f1-309d-549b-a849-eaa63f77b2fb  base\n",
      "default_py3.7_opence             c2057dd4-f42c-5f77-a02f-72bdbd3282c9  base\n",
      "tensorflow_2.1-py3.7             c4032338-2a40-500a-beef-b01ab2667e27  base\n",
      "do_py3.7_opence                  cc8f8976-b74a-551a-bb66-6377f8d865b4  base\n",
      "spark-mllib_3.3                  d11f2434-4fc7-58b7-8a62-755da64fdaf8  base\n",
      "autoai-kb_3.0-py3.6              d139f196-e04b-5d8b-9140-9a10ca1fa91a  base\n",
      "spark-mllib_3.0-py36             d82546d5-dd78-5fbb-9131-2ec309bc56ed  base\n",
      "autoai-kb_3.4-py3.8              da9b39c3-758c-5a4f-9cfd-457dd4d8c395  base\n",
      "kernel-spark3.2-r3.6             db2fe4d6-d641-5d05-9972-73c654c60e0a  base\n",
      "autoai-kb_rt22.1-py3.9           db6afe93-665f-5910-b117-d879897404d9  base\n",
      "tensorflow_rt22.1-py3.9-horovod  dda170cc-ca67-5da7-9b7a-cf84c6987fae  base\n",
      "autoai-ts_1.0-py3.7              deef04f0-0c42-5147-9711-89f9904299db  base\n",
      "tensorflow_2.1-py3.7-horovod     e384fce5-fdd1-53f8-bc71-11326c9c635f  base\n",
      "default_py3.7                    e4429883-c883-42b6-87a8-f419d64088cd  base\n",
      "do_22.1                          e51999ba-6452-5f1f-8287-17228b88b652  base\n",
      "autoai-obm_3.2                   eae86aab-da30-5229-a6a6-1d0d4e368983  base\n",
      "runtime-22.2-r4.2                ec0a3d28-08f7-556c-9674-ca7c2dba30bd  base\n",
      "tensorflow_rt22.2-py3.10         f65bd165-f057-55de-b5cb-f97cf2c0f393  base\n",
      "do_20.1                          f686cdd9-7904-5f9d-a732-01b0d6b10dc5  base\n",
      "pytorch-onnx_rt22.2-py3.10-edt   f8a05d07-e7cd-57bb-a10b-23f1d4b837ac  base\n",
      "scikit-learn_0.19-py3.6          f963fa9d-4bb7-5652-9c5d-8d9289ef6ad9  base\n",
      "tensorflow_2.4-py3.8             fe185c44-9a99-5425-986b-59bd1d2eda46  base\n",
      "-------------------------------  ------------------------------------  ----\n"
     ]
    }
   ],
   "source": [
    "wml_client.software_specifications.list(500)"
   ]
  },
  {
   "cell_type": "markdown",
   "metadata": {
    "id": "qnZkrArB7Z5w"
   },
   "source": [
    "## **SAVE AND DEPLOY THE MODEL**"
   ]
  },
  {
   "cell_type": "code",
   "execution_count": 25,
   "metadata": {
    "id": "3ae42745",
    "outputId": "95485bb2-971e-4a40-c516-e4241e45e145"
   },
   "outputs": [
    {
     "data": {
      "text/plain": [
       "'1.0.2'"
      ]
     },
     "execution_count": 25,
     "metadata": {},
     "output_type": "execute_result"
    }
   ],
   "source": [
    "import sklearn\n",
    "sklearn.__version__"
   ]
  },
  {
   "cell_type": "code",
   "execution_count": 26,
   "metadata": {
    "id": "58861b97"
   },
   "outputs": [],
   "source": [
    "MODEL_NAME = 'windpower'\n",
    "DEPLOYMENT_NAME = 'wind_power_prediction'\n",
    "DEMO_MODEL = regressor"
   ]
  },
  {
   "cell_type": "code",
   "execution_count": 27,
   "metadata": {
    "id": "0eb757ce"
   },
   "outputs": [],
   "source": [
    "# Set Python Version\n",
    "software_spec_uid = wml_client.software_specifications.get_id_by_name('runtime-22.1-py3.9')"
   ]
  },
  {
   "cell_type": "code",
   "execution_count": 28,
   "metadata": {
    "id": "e9ad239f"
   },
   "outputs": [],
   "source": [
    "# Setup model meta\n",
    "model_props = {\n",
    "    wml_client.repository.ModelMetaNames.NAME: MODEL_NAME, \n",
    "    wml_client.repository.ModelMetaNames.TYPE: 'scikit-learn_1.0', \n",
    "    wml_client.repository.ModelMetaNames.SOFTWARE_SPEC_UID: software_spec_uid \n",
    "}"
   ]
  },
  {
   "cell_type": "code",
   "execution_count": 29,
   "metadata": {
    "id": "bc4d07bb"
   },
   "outputs": [],
   "source": [
    "#Save model\n",
    "model_details = wml_client.repository.store_model(\n",
    "    model=DEMO_MODEL, \n",
    "    meta_props=model_props, \n",
    "    training_data=X_train, \n",
    "    training_target=y_train\n",
    ")"
   ]
  },
  {
   "cell_type": "code",
   "execution_count": 30,
   "metadata": {
    "id": "ae53cfe3",
    "outputId": "8085feb0-88db-468f-f59f-bab0a5278e3d"
   },
   "outputs": [
    {
     "data": {
      "text/plain": [
       "{'entity': {'hybrid_pipeline_software_specs': [],\n",
       "  'label_column': 'Power',\n",
       "  'schemas': {'input': [{'fields': [{'name': 'f0', 'type': 'float'},\n",
       "      {'name': 'f1', 'type': 'float'},\n",
       "      {'name': 'f2', 'type': 'float'},\n",
       "      {'name': 'f3', 'type': 'float'},\n",
       "      {'name': 'f4', 'type': 'float'},\n",
       "      {'name': 'f5', 'type': 'float'},\n",
       "      {'name': 'f6', 'type': 'float'},\n",
       "      {'name': 'f7', 'type': 'float'},\n",
       "      {'name': 'f8', 'type': 'float'},\n",
       "      {'name': 'f9', 'type': 'float'},\n",
       "      {'name': 'f10', 'type': 'float'}],\n",
       "     'id': '1',\n",
       "     'type': 'struct'}],\n",
       "   'output': []},\n",
       "  'software_spec': {'id': '12b83a17-24d8-5082-900f-0ab31fbfd3cb',\n",
       "   'name': 'runtime-22.1-py3.9'},\n",
       "  'type': 'scikit-learn_1.0'},\n",
       " 'metadata': {'created_at': '2022-11-19T12:35:21.663Z',\n",
       "  'id': 'a9f1123c-0401-4b0f-9025-bcc1fc1b8c45',\n",
       "  'modified_at': '2022-11-19T12:35:47.039Z',\n",
       "  'name': 'windpower',\n",
       "  'owner': 'IBMid-6670006K3L',\n",
       "  'resource_key': '0cd17da7-1387-411e-b620-d57c3d739d72',\n",
       "  'space_id': '6df2e433-7c6e-4d6d-95ef-4abe297a223b'},\n",
       " 'system': {'warnings': []}}"
      ]
     },
     "execution_count": 30,
     "metadata": {},
     "output_type": "execute_result"
    }
   ],
   "source": [
    "model_details"
   ]
  },
  {
   "cell_type": "code",
   "execution_count": 31,
   "metadata": {
    "id": "611507a0",
    "outputId": "adfdd0c2-7776-48b3-8f18-c588f5404d6e"
   },
   "outputs": [
    {
     "data": {
      "text/plain": [
       "'a9f1123c-0401-4b0f-9025-bcc1fc1b8c45'"
      ]
     },
     "execution_count": 31,
     "metadata": {},
     "output_type": "execute_result"
    }
   ],
   "source": [
    "model_id = wml_client.repository.get_model_id(model_details)\n",
    "model_id"
   ]
  },
  {
   "cell_type": "code",
   "execution_count": 32,
   "metadata": {
    "id": "58813982"
   },
   "outputs": [],
   "source": [
    "# Set meta\n",
    "deployment_props = {\n",
    "    wml_client.deployments.ConfigurationMetaNames.NAME:DEPLOYMENT_NAME, \n",
    "    wml_client.deployments.ConfigurationMetaNames.ONLINE: {}\n",
    "}"
   ]
  },
  {
   "cell_type": "code",
   "execution_count": 33,
   "metadata": {
    "id": "6760bf54",
    "outputId": "0a32352a-38d3-4934-da26-bdb332be5079"
   },
   "outputs": [
    {
     "name": "stdout",
     "output_type": "stream",
     "text": [
      "\n",
      "\n",
      "#######################################################################################\n",
      "\n",
      "Synchronous deployment creation for uid: 'a9f1123c-0401-4b0f-9025-bcc1fc1b8c45' started\n",
      "\n",
      "#######################################################################################\n",
      "\n",
      "\n",
      "initializing\n",
      "Note: online_url is deprecated and will be removed in a future release. Use serving_urls instead.\n",
      "\n",
      "ready\n",
      "\n",
      "\n",
      "------------------------------------------------------------------------------------------------\n",
      "Successfully finished deployment creation, deployment_uid='81e352a8-8cbb-41f3-8518-fae3177d7c89'\n",
      "------------------------------------------------------------------------------------------------\n",
      "\n",
      "\n"
     ]
    }
   ],
   "source": [
    "# Deploy\n",
    "deployment = wml_client.deployments.create(\n",
    "    artifact_uid=model_id, \n",
    "    meta_props=deployment_props \n",
    ")"
   ]
  },
  {
   "cell_type": "code",
   "execution_count": null,
   "metadata": {},
   "outputs": [],
   "source": []
  }
 ],
 "metadata": {
  "colab": {
   "provenance": []
  },
  "kernelspec": {
   "display_name": "Python 3.9",
   "language": "python",
   "name": "python3"
  },
  "language_info": {
   "codemirror_mode": {
    "name": "ipython",
    "version": 3
   },
   "file_extension": ".py",
   "mimetype": "text/x-python",
   "name": "python",
   "nbconvert_exporter": "python",
   "pygments_lexer": "ipython3",
   "version": "3.9.13"
  }
 },
 "nbformat": 4,
 "nbformat_minor": 1
}
